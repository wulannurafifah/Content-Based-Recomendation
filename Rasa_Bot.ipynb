{
  "nbformat": 4,
  "nbformat_minor": 0,
  "metadata": {
    "colab": {
      "provenance": [],
      "authorship_tag": "ABX9TyN3iD9J5N6Lt6gHPafsx4+i",
      "include_colab_link": true
    },
    "kernelspec": {
      "name": "python3",
      "display_name": "Python 3"
    },
    "language_info": {
      "name": "python"
    }
  },
  "cells": [
    {
      "cell_type": "markdown",
      "metadata": {
        "id": "view-in-github",
        "colab_type": "text"
      },
      "source": [
        "<a href=\"https://colab.research.google.com/github/wulannurafifah/Content-Based-Recomendation/blob/main/Rasa_Bot.ipynb\" target=\"_parent\"><img src=\"https://colab.research.google.com/assets/colab-badge.svg\" alt=\"Open In Colab\"/></a>"
      ]
    },
    {
      "cell_type": "code",
      "execution_count": null,
      "metadata": {
        "colab": {
          "base_uri": "https://localhost:8080/"
        },
        "id": "JDDN4b3FC5YM",
        "outputId": "71aaf085-22d2-4e2f-951c-4168d89019fa"
      },
      "outputs": [
        {
          "output_type": "stream",
          "name": "stdout",
          "text": [
            "There are 2 choices for the alternative python3 (providing /usr/bin/python3).\n",
            "\n",
            "  Selection    Path                Priority   Status\n",
            "------------------------------------------------------------\n",
            "* 0            /usr/bin/python3.8   2         auto mode\n",
            "  1            /usr/bin/python3.6   1         manual mode\n",
            "  2            /usr/bin/python3.8   2         manual mode\n",
            "\n",
            "Press <enter> to keep the current choice[*], or type selection number: 0\n"
          ]
        }
      ],
      "source": [
        "!sudo update-alternatives --config python3"
      ]
    },
    {
      "cell_type": "code",
      "source": [],
      "metadata": {
        "id": "E9MmQwa6DqRf"
      },
      "execution_count": null,
      "outputs": []
    },
    {
      "cell_type": "code",
      "source": [
        "!pip install prompt-toolkit==2.0.1"
      ],
      "metadata": {
        "colab": {
          "base_uri": "https://localhost:8080/"
        },
        "id": "mB43aofeDqCu",
        "outputId": "43119dfc-9f71-4344-82a1-6e8027dc810a"
      },
      "execution_count": null,
      "outputs": [
        {
          "output_type": "stream",
          "name": "stdout",
          "text": [
            "Looking in indexes: https://pypi.org/simple, https://us-python.pkg.dev/colab-wheels/public/simple/\n",
            "Requirement already satisfied: prompt-toolkit==2.0.1 in /usr/local/lib/python3.8/dist-packages (2.0.1)\n",
            "Requirement already satisfied: six>=1.9.0 in /usr/local/lib/python3.8/dist-packages (from prompt-toolkit==2.0.1) (1.15.0)\n",
            "Requirement already satisfied: wcwidth in /usr/local/lib/python3.8/dist-packages (from prompt-toolkit==2.0.1) (0.2.5)\n"
          ]
        }
      ]
    },
    {
      "cell_type": "code",
      "source": [
        "!pip install rasa==2.0.1"
      ],
      "metadata": {
        "colab": {
          "base_uri": "https://localhost:8080/"
        },
        "id": "8kw1MOVjEQus",
        "outputId": "dd320113-a0f9-4e0d-ca56-692ba67b06f5"
      },
      "execution_count": null,
      "outputs": [
        {
          "output_type": "stream",
          "name": "stdout",
          "text": [
            "Looking in indexes: https://pypi.org/simple, https://us-python.pkg.dev/colab-wheels/public/simple/\n",
            "Requirement already satisfied: rasa==2.0.1 in /usr/local/lib/python3.8/dist-packages (2.0.1)\n",
            "Requirement already satisfied: cloudpickle<1.5,>=1.2 in /usr/local/lib/python3.8/dist-packages (from rasa==2.0.1) (1.4.1)\n",
            "Requirement already satisfied: mattermostwrapper<2.3,>=2.2 in /usr/local/lib/python3.8/dist-packages (from rasa==2.0.1) (2.2)\n",
            "Requirement already satisfied: requests<3.0,>=2.23 in /usr/local/lib/python3.8/dist-packages (from rasa==2.0.1) (2.28.1)\n",
            "Requirement already satisfied: sanic-cors<0.11.0,>=0.10.0b1 in /usr/local/lib/python3.8/dist-packages (from rasa==2.0.1) (0.10.0.post3)\n",
            "Requirement already satisfied: terminaltables<3.2.0,>=3.1.0 in /usr/local/lib/python3.8/dist-packages (from rasa==2.0.1) (3.1.10)\n",
            "Requirement already satisfied: colorclass<2.3,>=2.2 in /usr/local/lib/python3.8/dist-packages (from rasa==2.0.1) (2.2.2)\n",
            "Requirement already satisfied: oauth2client==4.1.3 in /usr/local/lib/python3.8/dist-packages (from rasa==2.0.1) (4.1.3)\n",
            "Requirement already satisfied: jsonpickle<1.5,>=1.3 in /usr/local/lib/python3.8/dist-packages (from rasa==2.0.1) (1.4.2)\n",
            "Requirement already satisfied: fbmessenger<6.1.0,>=6.0.0 in /usr/local/lib/python3.8/dist-packages (from rasa==2.0.1) (6.0.0)\n",
            "Requirement already satisfied: rasa-sdk<3.0.0,>=2.0.0 in /usr/local/lib/python3.8/dist-packages (from rasa==2.0.1) (2.8.6)\n",
            "Requirement already satisfied: tensorflow_hub<0.10,>=0.9 in /usr/local/lib/python3.8/dist-packages (from rasa==2.0.1) (0.9.0)\n",
            "Requirement already satisfied: networkx<2.6,>=2.4 in /usr/local/lib/python3.8/dist-packages (from rasa==2.0.1) (2.5.1)\n",
            "Requirement already satisfied: PyJWT<1.8,>=1.7 in /usr/local/lib/python3.8/dist-packages (from rasa==2.0.1) (1.7.1)\n",
            "Requirement already satisfied: slackclient<3.0.0,>=2.0.0 in /usr/local/lib/python3.8/dist-packages (from rasa==2.0.1) (2.9.4)\n",
            "Requirement already satisfied: SQLAlchemy<1.4.0,>=1.3.3 in /usr/local/lib/python3.8/dist-packages (from rasa==2.0.1) (1.3.24)\n",
            "Requirement already satisfied: sanic<21.0.0,>=19.12.2 in /usr/local/lib/python3.8/dist-packages (from rasa==2.0.1) (20.9.0)\n",
            "Requirement already satisfied: pydot<1.5,>=1.4 in /usr/local/lib/python3.8/dist-packages (from rasa==2.0.1) (1.4.2)\n",
            "Requirement already satisfied: apscheduler<3.7,>=3.6 in /usr/local/lib/python3.8/dist-packages (from rasa==2.0.1) (3.6.3)\n",
            "Requirement already satisfied: pykwalify<1.8.0,>=1.7.0 in /usr/local/lib/python3.8/dist-packages (from rasa==2.0.1) (1.7.0)\n",
            "Requirement already satisfied: python-socketio<4.7,>=4.4 in /usr/local/lib/python3.8/dist-packages (from rasa==2.0.1) (4.6.1)\n",
            "Requirement already satisfied: regex<2020.10,>=2020.6 in /usr/local/lib/python3.8/dist-packages (from rasa==2.0.1) (2020.9.27)\n",
            "Requirement already satisfied: ujson<4.0,>=1.35 in /usr/local/lib/python3.8/dist-packages (from rasa==2.0.1) (3.2.0)\n",
            "Requirement already satisfied: tensorflow-text<2.4,>=2.3 in /usr/local/lib/python3.8/dist-packages (from rasa==2.0.1) (2.3.0)\n",
            "Requirement already satisfied: tensorflow-probability<0.12,>=0.11 in /usr/local/lib/python3.8/dist-packages (from rasa==2.0.1) (0.11.1)\n",
            "Requirement already satisfied: joblib<0.16.0,>=0.15.1 in /usr/local/lib/python3.8/dist-packages (from rasa==2.0.1) (0.15.1)\n",
            "Requirement already satisfied: kafka-python<3.0,>=1.4 in /usr/local/lib/python3.8/dist-packages (from rasa==2.0.1) (2.0.2)\n",
            "Requirement already satisfied: sklearn-crfsuite<0.4,>=0.3 in /usr/local/lib/python3.8/dist-packages (from rasa==2.0.1) (0.3.6)\n",
            "Requirement already satisfied: twilio<6.46,>=6.26 in /usr/local/lib/python3.8/dist-packages (from rasa==2.0.1) (6.45.4)\n",
            "Requirement already satisfied: questionary<1.6.0,>=1.5.1 in /usr/local/lib/python3.8/dist-packages (from rasa==2.0.1) (1.5.2)\n",
            "Requirement already satisfied: scikit-learn<0.24,>=0.22 in /usr/local/lib/python3.8/dist-packages (from rasa==2.0.1) (0.23.2)\n",
            "Requirement already satisfied: sanic-jwt<1.5.0,>=1.3.2 in /usr/local/lib/python3.8/dist-packages (from rasa==2.0.1) (1.4.1)\n",
            "Requirement already satisfied: sentry-sdk<0.18.0,>=0.17.4 in /usr/local/lib/python3.8/dist-packages (from rasa==2.0.1) (0.17.8)\n",
            "Requirement already satisfied: redis<4.0,>=3.4 in /usr/local/lib/python3.8/dist-packages (from rasa==2.0.1) (3.5.3)\n",
            "Requirement already satisfied: async_generator<1.11,>=1.10 in /usr/local/lib/python3.8/dist-packages (from rasa==2.0.1) (1.10)\n",
            "Requirement already satisfied: boto3<2.0,>=1.12 in /usr/local/lib/python3.8/dist-packages (from rasa==2.0.1) (1.26.34)\n",
            "Requirement already satisfied: pymongo[srv,tls]<3.11,>=3.8 in /usr/local/lib/python3.8/dist-packages (from rasa==2.0.1) (3.10.1)\n",
            "Requirement already satisfied: setuptools>=41.0.0 in /usr/local/lib/python3.8/dist-packages (from rasa==2.0.1) (57.4.0)\n",
            "Requirement already satisfied: tqdm<4.51,>=4.31 in /usr/local/lib/python3.8/dist-packages (from rasa==2.0.1) (4.50.2)\n",
            "Requirement already satisfied: psycopg2-binary<2.9.0,>=2.8.2 in /usr/local/lib/python3.8/dist-packages (from rasa==2.0.1) (2.8.6)\n",
            "Requirement already satisfied: colorhash<1.1.0,>=1.0.2 in /usr/local/lib/python3.8/dist-packages (from rasa==2.0.1) (1.0.4)\n",
            "Requirement already satisfied: tensorflow-estimator<2.4,>=2.3 in /usr/local/lib/python3.8/dist-packages (from rasa==2.0.1) (2.3.0)\n",
            "Requirement already satisfied: python-dateutil<2.9,>=2.8 in /usr/local/lib/python3.8/dist-packages (from rasa==2.0.1) (2.8.2)\n",
            "Requirement already satisfied: prompt-toolkit<3.0,>=2.0 in /usr/local/lib/python3.8/dist-packages (from rasa==2.0.1) (2.0.1)\n",
            "Requirement already satisfied: ruamel.yaml<0.17,>=0.16 in /usr/local/lib/python3.8/dist-packages (from rasa==2.0.1) (0.16.13)\n",
            "Requirement already satisfied: multidict<5.0,>=4.6 in /usr/local/lib/python3.8/dist-packages (from rasa==2.0.1) (4.7.6)\n",
            "Requirement already satisfied: matplotlib<3.4,>=3.1 in /usr/local/lib/python3.8/dist-packages (from rasa==2.0.1) (3.2.2)\n",
            "Requirement already satisfied: coloredlogs<15,>=10 in /usr/local/lib/python3.8/dist-packages (from rasa==2.0.1) (14.3)\n",
            "Requirement already satisfied: scipy<2.0.0,>=1.4.1 in /usr/local/lib/python3.8/dist-packages (from rasa==2.0.1) (1.7.3)\n",
            "Requirement already satisfied: python-telegram-bot<13.0,>=11.1 in /usr/local/lib/python3.8/dist-packages (from rasa==2.0.1) (12.8)\n",
            "Requirement already satisfied: jsonschema<3.3,>=3.2 in /usr/local/lib/python3.8/dist-packages (from rasa==2.0.1) (3.2.0)\n",
            "Requirement already satisfied: pytz<2021.0,>=2019.1 in /usr/local/lib/python3.8/dist-packages (from rasa==2.0.1) (2020.5)\n",
            "Requirement already satisfied: rocketchat_API<1.10.0,>=0.6.31 in /usr/local/lib/python3.8/dist-packages (from rasa==2.0.1) (1.9.1)\n",
            "Requirement already satisfied: webexteamssdk<1.7.0,>=1.1.1 in /usr/local/lib/python3.8/dist-packages (from rasa==2.0.1) (1.6.1)\n",
            "Requirement already satisfied: tensorflow<2.4,>=2.3 in /usr/local/lib/python3.8/dist-packages (from rasa==2.0.1) (2.3.4)\n",
            "Requirement already satisfied: python-engineio<3.14,>=3.11 in /usr/local/lib/python3.8/dist-packages (from rasa==2.0.1) (3.13.2)\n",
            "Requirement already satisfied: packaging<21.0,>=20.0 in /usr/local/lib/python3.8/dist-packages (from rasa==2.0.1) (20.9)\n",
            "Requirement already satisfied: numpy<2.0,>=1.16 in /usr/local/lib/python3.8/dist-packages (from rasa==2.0.1) (1.18.5)\n",
            "Requirement already satisfied: tensorflow-addons<=0.12,>=0.10 in /usr/local/lib/python3.8/dist-packages (from rasa==2.0.1) (0.12.0)\n",
            "Requirement already satisfied: absl-py<0.11,>=0.9 in /usr/local/lib/python3.8/dist-packages (from rasa==2.0.1) (0.10.0)\n",
            "Requirement already satisfied: pika<1.2.0,>=1.1.0 in /usr/local/lib/python3.8/dist-packages (from rasa==2.0.1) (1.1.0)\n",
            "Requirement already satisfied: attrs<20.3,>=19.3 in /usr/local/lib/python3.8/dist-packages (from rasa==2.0.1) (20.2.0)\n",
            "Requirement already satisfied: aiohttp<3.7,>=3.6 in /usr/local/lib/python3.8/dist-packages (from rasa==2.0.1) (3.6.3)\n",
            "Requirement already satisfied: pyasn1>=0.1.7 in /usr/local/lib/python3.8/dist-packages (from oauth2client==4.1.3->rasa==2.0.1) (0.4.8)\n",
            "Requirement already satisfied: six>=1.6.1 in /usr/local/lib/python3.8/dist-packages (from oauth2client==4.1.3->rasa==2.0.1) (1.15.0)\n",
            "Requirement already satisfied: httplib2>=0.9.1 in /usr/local/lib/python3.8/dist-packages (from oauth2client==4.1.3->rasa==2.0.1) (0.17.4)\n",
            "Requirement already satisfied: rsa>=3.1.4 in /usr/local/lib/python3.8/dist-packages (from oauth2client==4.1.3->rasa==2.0.1) (4.9)\n",
            "Requirement already satisfied: pyasn1-modules>=0.0.5 in /usr/local/lib/python3.8/dist-packages (from oauth2client==4.1.3->rasa==2.0.1) (0.2.8)\n",
            "Requirement already satisfied: yarl<1.6.0,>=1.0 in /usr/local/lib/python3.8/dist-packages (from aiohttp<3.7,>=3.6->rasa==2.0.1) (1.5.1)\n",
            "Requirement already satisfied: async-timeout<4.0,>=3.0 in /usr/local/lib/python3.8/dist-packages (from aiohttp<3.7,>=3.6->rasa==2.0.1) (3.0.1)\n",
            "Requirement already satisfied: chardet<4.0,>=2.0 in /usr/local/lib/python3.8/dist-packages (from aiohttp<3.7,>=3.6->rasa==2.0.1) (3.0.4)\n",
            "Requirement already satisfied: tzlocal>=1.2 in /usr/local/lib/python3.8/dist-packages (from apscheduler<3.7,>=3.6->rasa==2.0.1) (1.5.1)\n",
            "Requirement already satisfied: jmespath<2.0.0,>=0.7.1 in /usr/local/lib/python3.8/dist-packages (from boto3<2.0,>=1.12->rasa==2.0.1) (1.0.1)\n",
            "Requirement already satisfied: s3transfer<0.7.0,>=0.6.0 in /usr/local/lib/python3.8/dist-packages (from boto3<2.0,>=1.12->rasa==2.0.1) (0.6.0)\n",
            "Requirement already satisfied: botocore<1.30.0,>=1.29.34 in /usr/local/lib/python3.8/dist-packages (from boto3<2.0,>=1.12->rasa==2.0.1) (1.29.34)\n",
            "Requirement already satisfied: urllib3<1.27,>=1.25.4 in /usr/local/lib/python3.8/dist-packages (from botocore<1.30.0,>=1.29.34->boto3<2.0,>=1.12->rasa==2.0.1) (1.26.13)\n",
            "Requirement already satisfied: humanfriendly>=7.1 in /usr/local/lib/python3.8/dist-packages (from coloredlogs<15,>=10->rasa==2.0.1) (10.0)\n",
            "Requirement already satisfied: pyrsistent>=0.14.0 in /usr/local/lib/python3.8/dist-packages (from jsonschema<3.3,>=3.2->rasa==2.0.1) (0.19.2)\n",
            "Requirement already satisfied: pyparsing!=2.0.4,!=2.1.2,!=2.1.6,>=2.0.1 in /usr/local/lib/python3.8/dist-packages (from matplotlib<3.4,>=3.1->rasa==2.0.1) (3.0.9)\n",
            "Requirement already satisfied: cycler>=0.10 in /usr/local/lib/python3.8/dist-packages (from matplotlib<3.4,>=3.1->rasa==2.0.1) (0.11.0)\n",
            "Requirement already satisfied: kiwisolver>=1.0.1 in /usr/local/lib/python3.8/dist-packages (from matplotlib<3.4,>=3.1->rasa==2.0.1) (1.4.4)\n",
            "Requirement already satisfied: decorator<5,>=4.3 in /usr/local/lib/python3.8/dist-packages (from networkx<2.6,>=2.4->rasa==2.0.1) (4.4.2)\n",
            "Requirement already satisfied: wcwidth in /usr/local/lib/python3.8/dist-packages (from prompt-toolkit<3.0,>=2.0->rasa==2.0.1) (0.2.5)\n",
            "Requirement already satisfied: PyYAML>=3.11 in /usr/local/lib/python3.8/dist-packages (from pykwalify<1.8.0,>=1.7.0->rasa==2.0.1) (6.0)\n",
            "Requirement already satisfied: docopt>=0.6.2 in /usr/local/lib/python3.8/dist-packages (from pykwalify<1.8.0,>=1.7.0->rasa==2.0.1) (0.6.2)\n",
            "Requirement already satisfied: dnspython<2.0.0,>=1.16.0 in /usr/local/lib/python3.8/dist-packages (from pymongo[srv,tls]<3.11,>=3.8->rasa==2.0.1) (1.16.0)\n",
            "Requirement already satisfied: tornado>=5.1 in /usr/local/lib/python3.8/dist-packages (from python-telegram-bot<13.0,>=11.1->rasa==2.0.1) (6.0.4)\n",
            "Requirement already satisfied: certifi in /usr/local/lib/python3.8/dist-packages (from python-telegram-bot<13.0,>=11.1->rasa==2.0.1) (2022.12.7)\n",
            "Requirement already satisfied: cryptography in /usr/local/lib/python3.8/dist-packages (from python-telegram-bot<13.0,>=11.1->rasa==2.0.1) (38.0.4)\n",
            "Requirement already satisfied: uvloop<0.15.0 in /usr/local/lib/python3.8/dist-packages (from rasa-sdk<3.0.0,>=2.0.0->rasa==2.0.1) (0.14.0)\n",
            "Requirement already satisfied: typing-extensions<4.0.0,>=3.7.4 in /usr/local/lib/python3.8/dist-packages (from rasa-sdk<3.0.0,>=2.0.0->rasa==2.0.1) (3.10.0.2)\n",
            "Requirement already satisfied: idna<4,>=2.5 in /usr/local/lib/python3.8/dist-packages (from requests<3.0,>=2.23->rasa==2.0.1) (2.10)\n",
            "Requirement already satisfied: charset-normalizer<3,>=2 in /usr/local/lib/python3.8/dist-packages (from requests<3.0,>=2.23->rasa==2.0.1) (2.1.1)\n",
            "Requirement already satisfied: ruamel.yaml.clib>=0.1.2 in /usr/local/lib/python3.8/dist-packages (from ruamel.yaml<0.17,>=0.16->rasa==2.0.1) (0.2.7)\n",
            "Requirement already satisfied: httpx==0.15.4 in /usr/local/lib/python3.8/dist-packages (from sanic<21.0.0,>=19.12.2->rasa==2.0.1) (0.15.4)\n",
            "Requirement already satisfied: httptools>=0.0.10 in /usr/local/lib/python3.8/dist-packages (from sanic<21.0.0,>=19.12.2->rasa==2.0.1) (0.5.0)\n",
            "Requirement already satisfied: aiofiles>=0.3.0 in /usr/local/lib/python3.8/dist-packages (from sanic<21.0.0,>=19.12.2->rasa==2.0.1) (22.1.0)\n",
            "Requirement already satisfied: websockets<9.0,>=8.1 in /usr/local/lib/python3.8/dist-packages (from sanic<21.0.0,>=19.12.2->rasa==2.0.1) (8.1)\n",
            "Requirement already satisfied: rfc3986[idna2008]<2,>=1.3 in /usr/local/lib/python3.8/dist-packages (from httpx==0.15.4->sanic<21.0.0,>=19.12.2->rasa==2.0.1) (1.5.0)\n",
            "Requirement already satisfied: sniffio in /usr/local/lib/python3.8/dist-packages (from httpx==0.15.4->sanic<21.0.0,>=19.12.2->rasa==2.0.1) (1.3.0)\n",
            "Requirement already satisfied: httpcore==0.11.* in /usr/local/lib/python3.8/dist-packages (from httpx==0.15.4->sanic<21.0.0,>=19.12.2->rasa==2.0.1) (0.11.1)\n",
            "Requirement already satisfied: h11<0.10,>=0.8 in /usr/local/lib/python3.8/dist-packages (from httpcore==0.11.*->httpx==0.15.4->sanic<21.0.0,>=19.12.2->rasa==2.0.1) (0.9.0)\n",
            "Requirement already satisfied: sanic-plugins-framework>=0.9.0 in /usr/local/lib/python3.8/dist-packages (from sanic-cors<0.11.0,>=0.10.0b1->rasa==2.0.1) (0.9.5)\n",
            "Requirement already satisfied: threadpoolctl>=2.0.0 in /usr/local/lib/python3.8/dist-packages (from scikit-learn<0.24,>=0.22->rasa==2.0.1) (3.1.0)\n",
            "Requirement already satisfied: python-crfsuite>=0.8.3 in /usr/local/lib/python3.8/dist-packages (from sklearn-crfsuite<0.4,>=0.3->rasa==2.0.1) (0.9.8)\n",
            "Requirement already satisfied: tabulate in /usr/local/lib/python3.8/dist-packages (from sklearn-crfsuite<0.4,>=0.3->rasa==2.0.1) (0.8.10)\n",
            "Requirement already satisfied: keras-preprocessing<1.2,>=1.1.1 in /usr/local/lib/python3.8/dist-packages (from tensorflow<2.4,>=2.3->rasa==2.0.1) (1.1.2)\n",
            "Requirement already satisfied: tensorboard<3,>=2.3.0 in /usr/local/lib/python3.8/dist-packages (from tensorflow<2.4,>=2.3->rasa==2.0.1) (2.9.1)\n",
            "Requirement already satisfied: h5py<2.11.0,>=2.10.0 in /usr/local/lib/python3.8/dist-packages (from tensorflow<2.4,>=2.3->rasa==2.0.1) (2.10.0)\n",
            "Requirement already satisfied: grpcio>=1.8.6 in /usr/local/lib/python3.8/dist-packages (from tensorflow<2.4,>=2.3->rasa==2.0.1) (1.51.1)\n",
            "Requirement already satisfied: protobuf>=3.9.2 in /usr/local/lib/python3.8/dist-packages (from tensorflow<2.4,>=2.3->rasa==2.0.1) (3.19.6)\n",
            "Requirement already satisfied: astunparse==1.6.3 in /usr/local/lib/python3.8/dist-packages (from tensorflow<2.4,>=2.3->rasa==2.0.1) (1.6.3)\n",
            "Requirement already satisfied: opt-einsum>=2.3.2 in /usr/local/lib/python3.8/dist-packages (from tensorflow<2.4,>=2.3->rasa==2.0.1) (3.3.0)\n",
            "Requirement already satisfied: gast==0.3.3 in /usr/local/lib/python3.8/dist-packages (from tensorflow<2.4,>=2.3->rasa==2.0.1) (0.3.3)\n",
            "Requirement already satisfied: wheel>=0.26 in /usr/local/lib/python3.8/dist-packages (from tensorflow<2.4,>=2.3->rasa==2.0.1) (0.38.4)\n",
            "Requirement already satisfied: wrapt>=1.11.1 in /usr/local/lib/python3.8/dist-packages (from tensorflow<2.4,>=2.3->rasa==2.0.1) (1.14.1)\n",
            "Requirement already satisfied: google-pasta>=0.1.8 in /usr/local/lib/python3.8/dist-packages (from tensorflow<2.4,>=2.3->rasa==2.0.1) (0.2.0)\n",
            "Requirement already satisfied: termcolor>=1.1.0 in /usr/local/lib/python3.8/dist-packages (from tensorflow<2.4,>=2.3->rasa==2.0.1) (2.1.1)\n",
            "Requirement already satisfied: werkzeug>=1.0.1 in /usr/local/lib/python3.8/dist-packages (from tensorboard<3,>=2.3.0->tensorflow<2.4,>=2.3->rasa==2.0.1) (1.0.1)\n",
            "Requirement already satisfied: markdown>=2.6.8 in /usr/local/lib/python3.8/dist-packages (from tensorboard<3,>=2.3.0->tensorflow<2.4,>=2.3->rasa==2.0.1) (3.4.1)\n",
            "Requirement already satisfied: tensorboard-data-server<0.7.0,>=0.6.0 in /usr/local/lib/python3.8/dist-packages (from tensorboard<3,>=2.3.0->tensorflow<2.4,>=2.3->rasa==2.0.1) (0.6.1)\n",
            "Requirement already satisfied: tensorboard-plugin-wit>=1.6.0 in /usr/local/lib/python3.8/dist-packages (from tensorboard<3,>=2.3.0->tensorflow<2.4,>=2.3->rasa==2.0.1) (1.8.1)\n",
            "Requirement already satisfied: google-auth<3,>=1.6.3 in /usr/local/lib/python3.8/dist-packages (from tensorboard<3,>=2.3.0->tensorflow<2.4,>=2.3->rasa==2.0.1) (2.15.0)\n",
            "Requirement already satisfied: google-auth-oauthlib<0.5,>=0.4.1 in /usr/local/lib/python3.8/dist-packages (from tensorboard<3,>=2.3.0->tensorflow<2.4,>=2.3->rasa==2.0.1) (0.4.6)\n",
            "Requirement already satisfied: cachetools<6.0,>=2.0.0 in /usr/local/lib/python3.8/dist-packages (from google-auth<3,>=1.6.3->tensorboard<3,>=2.3.0->tensorflow<2.4,>=2.3->rasa==2.0.1) (5.2.0)\n",
            "Requirement already satisfied: requests-oauthlib>=0.7.0 in /usr/local/lib/python3.8/dist-packages (from google-auth-oauthlib<0.5,>=0.4.1->tensorboard<3,>=2.3.0->tensorflow<2.4,>=2.3->rasa==2.0.1) (1.3.1)\n",
            "Requirement already satisfied: importlib-metadata>=4.4 in /usr/local/lib/python3.8/dist-packages (from markdown>=2.6.8->tensorboard<3,>=2.3.0->tensorflow<2.4,>=2.3->rasa==2.0.1) (5.1.0)\n",
            "Requirement already satisfied: zipp>=0.5 in /usr/local/lib/python3.8/dist-packages (from importlib-metadata>=4.4->markdown>=2.6.8->tensorboard<3,>=2.3.0->tensorflow<2.4,>=2.3->rasa==2.0.1) (3.11.0)\n",
            "Requirement already satisfied: oauthlib>=3.0.0 in /usr/local/lib/python3.8/dist-packages (from requests-oauthlib>=0.7.0->google-auth-oauthlib<0.5,>=0.4.1->tensorboard<3,>=2.3.0->tensorflow<2.4,>=2.3->rasa==2.0.1) (3.2.2)\n",
            "Requirement already satisfied: typeguard>=2.7 in /usr/local/lib/python3.8/dist-packages (from tensorflow-addons<=0.12,>=0.10->rasa==2.0.1) (2.7.1)\n",
            "Requirement already satisfied: dm-tree in /usr/local/lib/python3.8/dist-packages (from tensorflow-probability<0.12,>=0.11->rasa==2.0.1) (0.1.7)\n",
            "Requirement already satisfied: future in /usr/local/lib/python3.8/dist-packages (from webexteamssdk<1.7.0,>=1.1.1->rasa==2.0.1) (0.16.0)\n",
            "Requirement already satisfied: requests-toolbelt in /usr/local/lib/python3.8/dist-packages (from webexteamssdk<1.7.0,>=1.1.1->rasa==2.0.1) (0.10.1)\n",
            "Requirement already satisfied: cffi>=1.12 in /usr/local/lib/python3.8/dist-packages (from cryptography->python-telegram-bot<13.0,>=11.1->rasa==2.0.1) (1.15.1)\n",
            "Requirement already satisfied: pycparser in /usr/local/lib/python3.8/dist-packages (from cffi>=1.12->cryptography->python-telegram-bot<13.0,>=11.1->rasa==2.0.1) (2.21)\n"
          ]
        }
      ]
    },
    {
      "cell_type": "markdown",
      "source": [
        "mulai ulang runtime"
      ],
      "metadata": {
        "id": "q8E5zOTxUTP2"
      }
    },
    {
      "cell_type": "code",
      "source": [],
      "metadata": {
        "id": "DPb-3TigE8av"
      },
      "execution_count": null,
      "outputs": []
    },
    {
      "cell_type": "code",
      "source": [
        "!pip install -U ipython===7.9.0"
      ],
      "metadata": {
        "colab": {
          "base_uri": "https://localhost:8080/"
        },
        "id": "ME2RpNJXFSSj",
        "outputId": "0b250dff-d3ca-4d22-c96e-cbfbd6281144"
      },
      "execution_count": null,
      "outputs": [
        {
          "output_type": "stream",
          "name": "stdout",
          "text": [
            "Looking in indexes: https://pypi.org/simple, https://us-python.pkg.dev/colab-wheels/public/simple/\n",
            "Requirement already satisfied: ipython===7.9.0 in /usr/local/lib/python3.8/dist-packages (7.9.0)\n",
            "Requirement already satisfied: setuptools>=18.5 in /usr/local/lib/python3.8/dist-packages (from ipython===7.9.0) (57.4.0)\n",
            "Requirement already satisfied: prompt-toolkit<2.1.0,>=2.0.0 in /usr/local/lib/python3.8/dist-packages (from ipython===7.9.0) (2.0.1)\n",
            "Requirement already satisfied: traitlets>=4.2 in /usr/local/lib/python3.8/dist-packages (from ipython===7.9.0) (5.7.1)\n",
            "Requirement already satisfied: pickleshare in /usr/local/lib/python3.8/dist-packages (from ipython===7.9.0) (0.7.5)\n",
            "Requirement already satisfied: pexpect in /usr/local/lib/python3.8/dist-packages (from ipython===7.9.0) (4.8.0)\n",
            "Requirement already satisfied: decorator in /usr/local/lib/python3.8/dist-packages (from ipython===7.9.0) (4.4.2)\n",
            "Requirement already satisfied: pygments in /usr/local/lib/python3.8/dist-packages (from ipython===7.9.0) (2.6.1)\n",
            "Requirement already satisfied: jedi>=0.10 in /usr/local/lib/python3.8/dist-packages (from ipython===7.9.0) (0.18.2)\n",
            "Requirement already satisfied: backcall in /usr/local/lib/python3.8/dist-packages (from ipython===7.9.0) (0.2.0)\n",
            "Requirement already satisfied: parso<0.9.0,>=0.8.0 in /usr/local/lib/python3.8/dist-packages (from jedi>=0.10->ipython===7.9.0) (0.8.3)\n",
            "Requirement already satisfied: six>=1.9.0 in /usr/local/lib/python3.8/dist-packages (from prompt-toolkit<2.1.0,>=2.0.0->ipython===7.9.0) (1.15.0)\n",
            "Requirement already satisfied: wcwidth in /usr/local/lib/python3.8/dist-packages (from prompt-toolkit<2.1.0,>=2.0.0->ipython===7.9.0) (0.2.5)\n",
            "Requirement already satisfied: ptyprocess>=0.5 in /usr/local/lib/python3.8/dist-packages (from pexpect->ipython===7.9.0) (0.7.0)\n"
          ]
        }
      ]
    },
    {
      "cell_type": "code",
      "source": [
        "!pip install -U tables==3.6.1"
      ],
      "metadata": {
        "colab": {
          "base_uri": "https://localhost:8080/"
        },
        "id": "mJGHOPJWFXAl",
        "outputId": "ed84cf2c-9576-4a53-a7c6-512e8c9903d2"
      },
      "execution_count": null,
      "outputs": [
        {
          "output_type": "stream",
          "name": "stdout",
          "text": [
            "Looking in indexes: https://pypi.org/simple, https://us-python.pkg.dev/colab-wheels/public/simple/\n",
            "Requirement already satisfied: tables==3.6.1 in /usr/local/lib/python3.8/dist-packages (3.6.1)\n",
            "Requirement already satisfied: numexpr>=2.6.2 in /usr/local/lib/python3.8/dist-packages (from tables==3.6.1) (2.8.4)\n",
            "Requirement already satisfied: numpy>=1.9.3 in /usr/local/lib/python3.8/dist-packages (from tables==3.6.1) (1.18.5)\n"
          ]
        }
      ]
    },
    {
      "cell_type": "code",
      "source": [
        "#!pip install -U ipython"
      ],
      "metadata": {
        "id": "dZgBpzXxFhv-"
      },
      "execution_count": null,
      "outputs": []
    },
    {
      "cell_type": "markdown",
      "source": [
        "mulai ulang runtime"
      ],
      "metadata": {
        "id": "WfJZDKouUVqj"
      }
    },
    {
      "cell_type": "code",
      "source": [
        "#!python -m spacy download en"
      ],
      "metadata": {
        "id": "SP7-cuQuFnpT"
      },
      "execution_count": null,
      "outputs": []
    },
    {
      "cell_type": "code",
      "source": [
        "!pip install nest_asyncio==1.3.3"
      ],
      "metadata": {
        "colab": {
          "base_uri": "https://localhost:8080/"
        },
        "id": "_d_eMTFaGCOU",
        "outputId": "0fb204ed-582e-4715-e273-56822eb41f28"
      },
      "execution_count": null,
      "outputs": [
        {
          "output_type": "stream",
          "name": "stdout",
          "text": [
            "Looking in indexes: https://pypi.org/simple, https://us-python.pkg.dev/colab-wheels/public/simple/\n",
            "Collecting nest_asyncio==1.3.3\n",
            "  Downloading nest_asyncio-1.3.3-py3-none-any.whl (4.7 kB)\n",
            "Installing collected packages: nest-asyncio\n",
            "Successfully installed nest-asyncio-1.3.3\n"
          ]
        }
      ]
    },
    {
      "cell_type": "code",
      "source": [
        "import os\n",
        "import rasa\n",
        "import nest_asyncio\n",
        "\n",
        "nest_asyncio.apply()\n",
        "print(\"Event loop ready.\")"
      ],
      "metadata": {
        "colab": {
          "base_uri": "https://localhost:8080/"
        },
        "id": "sY9LihxcGHOZ",
        "outputId": "ba9a05ce-f701-4bc8-c32c-165ae97cd227"
      },
      "execution_count": null,
      "outputs": [
        {
          "output_type": "stream",
          "name": "stdout",
          "text": [
            "Event loop ready.\n"
          ]
        }
      ]
    },
    {
      "cell_type": "code",
      "source": [
        "from rasa.cli.scaffold import create_initial_project"
      ],
      "metadata": {
        "id": "LjspPRppGm9B"
      },
      "execution_count": null,
      "outputs": []
    },
    {
      "cell_type": "code",
      "source": [
        "project = \"test-project\"\n",
        "create_initial_project(project)"
      ],
      "metadata": {
        "id": "6Wg_T-lWGp_h"
      },
      "execution_count": null,
      "outputs": []
    },
    {
      "cell_type": "code",
      "source": [
        "# move into project directory and show files\n",
        "os.chdir(project)\n",
        "print(os.listdir(\".\"))"
      ],
      "metadata": {
        "colab": {
          "base_uri": "https://localhost:8080/"
        },
        "id": "c7LQ6TCxGtRN",
        "outputId": "ab6ce12c-091a-44de-8b03-e87b1a619027"
      },
      "execution_count": null,
      "outputs": [
        {
          "output_type": "stream",
          "name": "stdout",
          "text": [
            "['endpoints.yml', 'actions', 'config.yml', 'tests', 'domain.yml', 'credentials.yml', 'data']\n"
          ]
        }
      ]
    },
    {
      "cell_type": "code",
      "source": [
        "config = \"config.yml\"\n",
        "training_files = \"data/\"\n",
        "domain = \"domain.yml\"\n",
        "output = \"models/\"\n",
        "print(config, training_files, domain, output)"
      ],
      "metadata": {
        "colab": {
          "base_uri": "https://localhost:8080/"
        },
        "id": "pZl9vHkkGxGT",
        "outputId": "bf99a953-4d8e-4fbc-cbb4-99d9c3df9ed6"
      },
      "execution_count": null,
      "outputs": [
        {
          "output_type": "stream",
          "name": "stdout",
          "text": [
            "config.yml data/ domain.yml models/\n"
          ]
        }
      ]
    },
    {
      "cell_type": "code",
      "source": [
        "model_path = rasa.train(domain, config, [training_files], output)\n",
        "print(model_path)"
      ],
      "metadata": {
        "colab": {
          "base_uri": "https://localhost:8080/"
        },
        "id": "2SRH26a2HF5-",
        "outputId": "05aeedac-8eac-428d-f807-915b6e03fadb"
      },
      "execution_count": null,
      "outputs": [
        {
          "output_type": "stream",
          "name": "stdout",
          "text": [
            "\u001b[94mThe configuration for policies and pipeline was chosen automatically. It was written into the config file at 'config.yml'.\u001b[0m\n",
            "\u001b[94mTraining NLU model...\u001b[0m\n"
          ]
        },
        {
          "output_type": "stream",
          "name": "stderr",
          "text": [
            "WARNING:tensorflow:From /usr/local/lib/python3.8/dist-packages/rasa/utils/tensorflow/layers.py:635: calling while_loop_v2 (from tensorflow.python.ops.control_flow_ops) with back_prop=False is deprecated and will be removed in a future version.\n",
            "Instructions for updating:\n",
            "back_prop=False is deprecated. Consider using tf.stop_gradient instead.\n",
            "Instead of:\n",
            "results = tf.while_loop(c, b, vars, back_prop=False)\n",
            "Use:\n",
            "results = tf.nest.map_structure(tf.stop_gradient, tf.while_loop(c, b, vars))\n",
            "Epochs: 100%|██████████| 100/100 [00:27<00:00,  3.70it/s, t_loss=1.320, i_acc=0.986]\n"
          ]
        },
        {
          "output_type": "stream",
          "name": "stdout",
          "text": [
            "\u001b[94mNLU model training completed.\u001b[0m\n",
            "\u001b[94mTraining Core model...\u001b[0m\n"
          ]
        },
        {
          "output_type": "stream",
          "name": "stderr",
          "text": [
            "Processed story blocks: 100%|██████████| 3/3 [00:00<00:00, 218.12it/s, # trackers=1]\n",
            "Processed story blocks: 100%|██████████| 3/3 [00:00<00:00, 317.11it/s, # trackers=3]\n",
            "Processed story blocks: 100%|██████████| 3/3 [00:00<00:00, 81.86it/s, # trackers=12]\n",
            "Processed story blocks: 100%|██████████| 3/3 [00:00<00:00, 58.82it/s, # trackers=39]\n",
            "Processed rules: 100%|██████████| 2/2 [00:00<00:00, 323.46it/s, # trackers=1]\n",
            "Processed trackers: 100%|██████████| 3/3 [00:00<00:00, 97.48it/s, # actions=12]\n",
            "Processed actions: 12it [00:00, 681.56it/s, # examples=12]\n",
            "Processed trackers: 100%|██████████| 120/120 [00:07<00:00, 16.70it/s, # actions=30]\n",
            "Epochs: 100%|██████████| 100/100 [00:08<00:00, 11.25it/s, t_loss=4.755, loss=4.586, acc=1.000]\n",
            "Processed trackers: 100%|██████████| 2/2 [00:00<00:00, 115.54it/s, # actions=5]\n",
            "Processed actions: 5it [00:00, 497.99it/s, # examples=4]\n",
            "Processed trackers: 100%|██████████| 3/3 [00:00<00:00, 61.61it/s, # actions=12]\n",
            "Processed trackers: 100%|██████████| 5/5 [00:00<00:00, 497.37it/s]\n"
          ]
        },
        {
          "output_type": "stream",
          "name": "stdout",
          "text": [
            "\u001b[94mCore model training completed.\u001b[0m\n",
            "\u001b[92mYour Rasa model is trained and saved at '/content/test-project/models/20221221-155712.tar.gz'.\u001b[0m\n",
            "models/20221221-155712.tar.gz\n"
          ]
        }
      ]
    },
    {
      "cell_type": "code",
      "source": [
        "from rasa.jupyter import chat\n",
        "\n",
        "endpoints = 'endpoints.yml'\n",
        "\n",
        "chat(model_path, endpoints)"
      ],
      "metadata": {
        "colab": {
          "base_uri": "https://localhost:8080/"
        },
        "id": "Q6Y0-eajHbFh",
        "outputId": "79f55e73-1f8b-4c9e-b687-06dc8e60575f"
      },
      "execution_count": null,
      "outputs": [
        {
          "name": "stdout",
          "output_type": "stream",
          "text": [
            "Your bot is ready to talk! Type your messages here or send '/stop'.\n",
            "hai\n",
            "\u001b[92mHey! How are you?\u001b[0m\n",
            "/stop\n"
          ]
        }
      ]
    },
    {
      "cell_type": "code",
      "source": [
        "chat(model_path, endpoints)"
      ],
      "metadata": {
        "colab": {
          "base_uri": "https://localhost:8080/"
        },
        "id": "BPfh6E0FIjqE",
        "outputId": "be096067-708b-498d-ec6e-a968fcd4c892"
      },
      "execution_count": null,
      "outputs": [
        {
          "name": "stdout",
          "output_type": "stream",
          "text": [
            "Your bot is ready to talk! Type your messages here or send '/stop'.\n",
            "are you a bot?\n",
            "\u001b[92mI am a bot, powered by Rasa.\u001b[0m\n",
            "let's go\n",
            "\u001b[92mHey! How are you?\u001b[0m\n",
            "sad\n",
            "sad\n",
            "/stop\n"
          ]
        }
      ]
    }
  ]
}
{
  "cells": [
    {
      "cell_type": "markdown",
      "metadata": {
        "id": "view-in-github",
        "colab_type": "text"
      },
      "source": [
        "<a href=\"https://colab.research.google.com/github/wulannurafifah/Content-Based-Recomendation/blob/main/content_based_filtering_Rekomendasi_Studi_Independen_dan_Magang.ipynb\" target=\"_parent\"><img src=\"https://colab.research.google.com/assets/colab-badge.svg\" alt=\"Open In Colab\"/></a>"
      ]
    },
    {
      "cell_type": "markdown",
      "metadata": {
        "id": "Oh8Cj_C18Q3U"
      },
      "source": [
        "# Content Based Filtering : Sistem Rekomendasi Studi Independen dan Magang"
      ]
    },
    {
      "cell_type": "code",
      "execution_count": 1,
      "metadata": {
        "id": "MDcaSLwZ8Q3V",
        "outputId": "45610663-110f-4c9f-c3c2-32457368d751",
        "colab": {
          "base_uri": "https://localhost:8080/",
          "height": 206
        }
      },
      "outputs": [
        {
          "output_type": "execute_result",
          "data": {
            "text/plain": [
              "                                     Nama Perusahaan  \\\n",
              "0                                   Wulan Nur Afifah   \n",
              "1               AI 4 Jobs PT Orbit Ventura Indonesia   \n",
              "2  Akademi Mobile App Developer PT Nurul Fikri Ci...   \n",
              "3  Cloud Administrator PT MariBelajar Indonesia C...   \n",
              "4  Bisnis Kecerdasan Artifisial (AI-HUSTLER) PT B...   \n",
              "\n",
              "                                              Alamat  \\\n",
              "0                 Jl. Cisadane, Kebondalem, Pemalang   \n",
              "1  Veteran RI Building 15th Floor Unit Z15-002, P...   \n",
              "2  Jl. Situ Indah No.116 RT. 006 RW. 010 Kel. Tug...   \n",
              "3  Jln Tunggul Ametung IVa no 8, Desa Ubung Kaja,...   \n",
              "4                    JLN. IR H JUANDA NO. 84 BANDUNG   \n",
              "\n",
              "                                  Modul Pembelajaran  \n",
              "0  Algoritma dan Pemrograman Bahasa Pemrograman S...  \n",
              "1  Logika dan Konsep Teknologi AI. Sasaran Pengem...  \n",
              "2  Soft Skill. Mampu menjelaskan pengertian komun...  \n",
              "3  Microsoft 365 Fundamentals. Target pembelajara...  \n",
              "4  Jr. Project Manager, Mengenal teknik dan langk...  "
            ],
            "text/html": [
              "\n",
              "  <div id=\"df-3e31d0b0-dd57-4f54-9616-efae4529bd1f\">\n",
              "    <div class=\"colab-df-container\">\n",
              "      <div>\n",
              "<style scoped>\n",
              "    .dataframe tbody tr th:only-of-type {\n",
              "        vertical-align: middle;\n",
              "    }\n",
              "\n",
              "    .dataframe tbody tr th {\n",
              "        vertical-align: top;\n",
              "    }\n",
              "\n",
              "    .dataframe thead th {\n",
              "        text-align: right;\n",
              "    }\n",
              "</style>\n",
              "<table border=\"1\" class=\"dataframe\">\n",
              "  <thead>\n",
              "    <tr style=\"text-align: right;\">\n",
              "      <th></th>\n",
              "      <th>Nama Perusahaan</th>\n",
              "      <th>Alamat</th>\n",
              "      <th>Modul Pembelajaran</th>\n",
              "    </tr>\n",
              "  </thead>\n",
              "  <tbody>\n",
              "    <tr>\n",
              "      <th>0</th>\n",
              "      <td>Wulan Nur Afifah</td>\n",
              "      <td>Jl. Cisadane, Kebondalem, Pemalang</td>\n",
              "      <td>Algoritma dan Pemrograman Bahasa Pemrograman S...</td>\n",
              "    </tr>\n",
              "    <tr>\n",
              "      <th>1</th>\n",
              "      <td>AI 4 Jobs PT Orbit Ventura Indonesia</td>\n",
              "      <td>Veteran RI Building 15th Floor Unit Z15-002, P...</td>\n",
              "      <td>Logika dan Konsep Teknologi AI. Sasaran Pengem...</td>\n",
              "    </tr>\n",
              "    <tr>\n",
              "      <th>2</th>\n",
              "      <td>Akademi Mobile App Developer PT Nurul Fikri Ci...</td>\n",
              "      <td>Jl. Situ Indah No.116 RT. 006 RW. 010 Kel. Tug...</td>\n",
              "      <td>Soft Skill. Mampu menjelaskan pengertian komun...</td>\n",
              "    </tr>\n",
              "    <tr>\n",
              "      <th>3</th>\n",
              "      <td>Cloud Administrator PT MariBelajar Indonesia C...</td>\n",
              "      <td>Jln Tunggul Ametung IVa no 8, Desa Ubung Kaja,...</td>\n",
              "      <td>Microsoft 365 Fundamentals. Target pembelajara...</td>\n",
              "    </tr>\n",
              "    <tr>\n",
              "      <th>4</th>\n",
              "      <td>Bisnis Kecerdasan Artifisial (AI-HUSTLER) PT B...</td>\n",
              "      <td>JLN. IR H JUANDA NO. 84 BANDUNG</td>\n",
              "      <td>Jr. Project Manager, Mengenal teknik dan langk...</td>\n",
              "    </tr>\n",
              "  </tbody>\n",
              "</table>\n",
              "</div>\n",
              "      <button class=\"colab-df-convert\" onclick=\"convertToInteractive('df-3e31d0b0-dd57-4f54-9616-efae4529bd1f')\"\n",
              "              title=\"Convert this dataframe to an interactive table.\"\n",
              "              style=\"display:none;\">\n",
              "        \n",
              "  <svg xmlns=\"http://www.w3.org/2000/svg\" height=\"24px\"viewBox=\"0 0 24 24\"\n",
              "       width=\"24px\">\n",
              "    <path d=\"M0 0h24v24H0V0z\" fill=\"none\"/>\n",
              "    <path d=\"M18.56 5.44l.94 2.06.94-2.06 2.06-.94-2.06-.94-.94-2.06-.94 2.06-2.06.94zm-11 1L8.5 8.5l.94-2.06 2.06-.94-2.06-.94L8.5 2.5l-.94 2.06-2.06.94zm10 10l.94 2.06.94-2.06 2.06-.94-2.06-.94-.94-2.06-.94 2.06-2.06.94z\"/><path d=\"M17.41 7.96l-1.37-1.37c-.4-.4-.92-.59-1.43-.59-.52 0-1.04.2-1.43.59L10.3 9.45l-7.72 7.72c-.78.78-.78 2.05 0 2.83L4 21.41c.39.39.9.59 1.41.59.51 0 1.02-.2 1.41-.59l7.78-7.78 2.81-2.81c.8-.78.8-2.07 0-2.86zM5.41 20L4 18.59l7.72-7.72 1.47 1.35L5.41 20z\"/>\n",
              "  </svg>\n",
              "      </button>\n",
              "      \n",
              "  <style>\n",
              "    .colab-df-container {\n",
              "      display:flex;\n",
              "      flex-wrap:wrap;\n",
              "      gap: 12px;\n",
              "    }\n",
              "\n",
              "    .colab-df-convert {\n",
              "      background-color: #E8F0FE;\n",
              "      border: none;\n",
              "      border-radius: 50%;\n",
              "      cursor: pointer;\n",
              "      display: none;\n",
              "      fill: #1967D2;\n",
              "      height: 32px;\n",
              "      padding: 0 0 0 0;\n",
              "      width: 32px;\n",
              "    }\n",
              "\n",
              "    .colab-df-convert:hover {\n",
              "      background-color: #E2EBFA;\n",
              "      box-shadow: 0px 1px 2px rgba(60, 64, 67, 0.3), 0px 1px 3px 1px rgba(60, 64, 67, 0.15);\n",
              "      fill: #174EA6;\n",
              "    }\n",
              "\n",
              "    [theme=dark] .colab-df-convert {\n",
              "      background-color: #3B4455;\n",
              "      fill: #D2E3FC;\n",
              "    }\n",
              "\n",
              "    [theme=dark] .colab-df-convert:hover {\n",
              "      background-color: #434B5C;\n",
              "      box-shadow: 0px 1px 3px 1px rgba(0, 0, 0, 0.15);\n",
              "      filter: drop-shadow(0px 1px 2px rgba(0, 0, 0, 0.3));\n",
              "      fill: #FFFFFF;\n",
              "    }\n",
              "  </style>\n",
              "\n",
              "      <script>\n",
              "        const buttonEl =\n",
              "          document.querySelector('#df-3e31d0b0-dd57-4f54-9616-efae4529bd1f button.colab-df-convert');\n",
              "        buttonEl.style.display =\n",
              "          google.colab.kernel.accessAllowed ? 'block' : 'none';\n",
              "\n",
              "        async function convertToInteractive(key) {\n",
              "          const element = document.querySelector('#df-3e31d0b0-dd57-4f54-9616-efae4529bd1f');\n",
              "          const dataTable =\n",
              "            await google.colab.kernel.invokeFunction('convertToInteractive',\n",
              "                                                     [key], {});\n",
              "          if (!dataTable) return;\n",
              "\n",
              "          const docLinkHtml = 'Like what you see? Visit the ' +\n",
              "            '<a target=\"_blank\" href=https://colab.research.google.com/notebooks/data_table.ipynb>data table notebook</a>'\n",
              "            + ' to learn more about interactive tables.';\n",
              "          element.innerHTML = '';\n",
              "          dataTable['output_type'] = 'display_data';\n",
              "          await google.colab.output.renderOutput(dataTable, element);\n",
              "          const docLink = document.createElement('div');\n",
              "          docLink.innerHTML = docLinkHtml;\n",
              "          element.appendChild(docLink);\n",
              "        }\n",
              "      </script>\n",
              "    </div>\n",
              "  </div>\n",
              "  "
            ]
          },
          "metadata": {},
          "execution_count": 1
        }
      ],
      "source": [
        "import pandas as pd\n",
        "import numpy as np\n",
        "from sklearn.metrics.pairwise import cosine_similarity\n",
        "from sklearn.feature_extraction.text import TfidfVectorizer\n",
        "from nltk.corpus import stopwords\n",
        "import re\n",
        "import random\n",
        "\n",
        "df = pd.read_csv(\"https://raw.githubusercontent.com/wulannurafifah/Content-Based-Recomendation/main/Data%20Rekomendasi%20Studi%20Independen%20dan%20Magang%20-%20Sheet1.csv\")\n",
        "df.head()"
      ]
    },
    {
      "cell_type": "markdown",
      "metadata": {
        "id": "UhzUu1XS8Q3X"
      },
      "source": [
        "## 1. Ikhtisar"
      ]
    },
    {
      "cell_type": "code",
      "execution_count": 2,
      "metadata": {
        "id": "sW-j8yXE8Q3X",
        "outputId": "c46f01f4-7d40-4a83-d3d8-0aeeb9783cdb",
        "colab": {
          "base_uri": "https://localhost:8080/",
          "height": 175
        }
      },
      "outputs": [
        {
          "output_type": "execute_result",
          "data": {
            "text/plain": [
              "         Nama Perusahaan                              Alamat  \\\n",
              "count                 11                                  11   \n",
              "unique                11                                  11   \n",
              "top     Wulan Nur Afifah  Jl. Cisadane, Kebondalem, Pemalang   \n",
              "freq                   1                                   1   \n",
              "\n",
              "                                       Modul Pembelajaran  \n",
              "count                                                  11  \n",
              "unique                                                 11  \n",
              "top     Algoritma dan Pemrograman Bahasa Pemrograman S...  \n",
              "freq                                                    1  "
            ],
            "text/html": [
              "\n",
              "  <div id=\"df-e14300f3-19b4-438a-ac55-7ef9794cd6a2\">\n",
              "    <div class=\"colab-df-container\">\n",
              "      <div>\n",
              "<style scoped>\n",
              "    .dataframe tbody tr th:only-of-type {\n",
              "        vertical-align: middle;\n",
              "    }\n",
              "\n",
              "    .dataframe tbody tr th {\n",
              "        vertical-align: top;\n",
              "    }\n",
              "\n",
              "    .dataframe thead th {\n",
              "        text-align: right;\n",
              "    }\n",
              "</style>\n",
              "<table border=\"1\" class=\"dataframe\">\n",
              "  <thead>\n",
              "    <tr style=\"text-align: right;\">\n",
              "      <th></th>\n",
              "      <th>Nama Perusahaan</th>\n",
              "      <th>Alamat</th>\n",
              "      <th>Modul Pembelajaran</th>\n",
              "    </tr>\n",
              "  </thead>\n",
              "  <tbody>\n",
              "    <tr>\n",
              "      <th>count</th>\n",
              "      <td>11</td>\n",
              "      <td>11</td>\n",
              "      <td>11</td>\n",
              "    </tr>\n",
              "    <tr>\n",
              "      <th>unique</th>\n",
              "      <td>11</td>\n",
              "      <td>11</td>\n",
              "      <td>11</td>\n",
              "    </tr>\n",
              "    <tr>\n",
              "      <th>top</th>\n",
              "      <td>Wulan Nur Afifah</td>\n",
              "      <td>Jl. Cisadane, Kebondalem, Pemalang</td>\n",
              "      <td>Algoritma dan Pemrograman Bahasa Pemrograman S...</td>\n",
              "    </tr>\n",
              "    <tr>\n",
              "      <th>freq</th>\n",
              "      <td>1</td>\n",
              "      <td>1</td>\n",
              "      <td>1</td>\n",
              "    </tr>\n",
              "  </tbody>\n",
              "</table>\n",
              "</div>\n",
              "      <button class=\"colab-df-convert\" onclick=\"convertToInteractive('df-e14300f3-19b4-438a-ac55-7ef9794cd6a2')\"\n",
              "              title=\"Convert this dataframe to an interactive table.\"\n",
              "              style=\"display:none;\">\n",
              "        \n",
              "  <svg xmlns=\"http://www.w3.org/2000/svg\" height=\"24px\"viewBox=\"0 0 24 24\"\n",
              "       width=\"24px\">\n",
              "    <path d=\"M0 0h24v24H0V0z\" fill=\"none\"/>\n",
              "    <path d=\"M18.56 5.44l.94 2.06.94-2.06 2.06-.94-2.06-.94-.94-2.06-.94 2.06-2.06.94zm-11 1L8.5 8.5l.94-2.06 2.06-.94-2.06-.94L8.5 2.5l-.94 2.06-2.06.94zm10 10l.94 2.06.94-2.06 2.06-.94-2.06-.94-.94-2.06-.94 2.06-2.06.94z\"/><path d=\"M17.41 7.96l-1.37-1.37c-.4-.4-.92-.59-1.43-.59-.52 0-1.04.2-1.43.59L10.3 9.45l-7.72 7.72c-.78.78-.78 2.05 0 2.83L4 21.41c.39.39.9.59 1.41.59.51 0 1.02-.2 1.41-.59l7.78-7.78 2.81-2.81c.8-.78.8-2.07 0-2.86zM5.41 20L4 18.59l7.72-7.72 1.47 1.35L5.41 20z\"/>\n",
              "  </svg>\n",
              "      </button>\n",
              "      \n",
              "  <style>\n",
              "    .colab-df-container {\n",
              "      display:flex;\n",
              "      flex-wrap:wrap;\n",
              "      gap: 12px;\n",
              "    }\n",
              "\n",
              "    .colab-df-convert {\n",
              "      background-color: #E8F0FE;\n",
              "      border: none;\n",
              "      border-radius: 50%;\n",
              "      cursor: pointer;\n",
              "      display: none;\n",
              "      fill: #1967D2;\n",
              "      height: 32px;\n",
              "      padding: 0 0 0 0;\n",
              "      width: 32px;\n",
              "    }\n",
              "\n",
              "    .colab-df-convert:hover {\n",
              "      background-color: #E2EBFA;\n",
              "      box-shadow: 0px 1px 2px rgba(60, 64, 67, 0.3), 0px 1px 3px 1px rgba(60, 64, 67, 0.15);\n",
              "      fill: #174EA6;\n",
              "    }\n",
              "\n",
              "    [theme=dark] .colab-df-convert {\n",
              "      background-color: #3B4455;\n",
              "      fill: #D2E3FC;\n",
              "    }\n",
              "\n",
              "    [theme=dark] .colab-df-convert:hover {\n",
              "      background-color: #434B5C;\n",
              "      box-shadow: 0px 1px 3px 1px rgba(0, 0, 0, 0.15);\n",
              "      filter: drop-shadow(0px 1px 2px rgba(0, 0, 0, 0.3));\n",
              "      fill: #FFFFFF;\n",
              "    }\n",
              "  </style>\n",
              "\n",
              "      <script>\n",
              "        const buttonEl =\n",
              "          document.querySelector('#df-e14300f3-19b4-438a-ac55-7ef9794cd6a2 button.colab-df-convert');\n",
              "        buttonEl.style.display =\n",
              "          google.colab.kernel.accessAllowed ? 'block' : 'none';\n",
              "\n",
              "        async function convertToInteractive(key) {\n",
              "          const element = document.querySelector('#df-e14300f3-19b4-438a-ac55-7ef9794cd6a2');\n",
              "          const dataTable =\n",
              "            await google.colab.kernel.invokeFunction('convertToInteractive',\n",
              "                                                     [key], {});\n",
              "          if (!dataTable) return;\n",
              "\n",
              "          const docLinkHtml = 'Like what you see? Visit the ' +\n",
              "            '<a target=\"_blank\" href=https://colab.research.google.com/notebooks/data_table.ipynb>data table notebook</a>'\n",
              "            + ' to learn more about interactive tables.';\n",
              "          element.innerHTML = '';\n",
              "          dataTable['output_type'] = 'display_data';\n",
              "          await google.colab.output.renderOutput(dataTable, element);\n",
              "          const docLink = document.createElement('div');\n",
              "          docLink.innerHTML = docLinkHtml;\n",
              "          element.appendChild(docLink);\n",
              "        }\n",
              "      </script>\n",
              "    </div>\n",
              "  </div>\n",
              "  "
            ]
          },
          "metadata": {},
          "execution_count": 2
        }
      ],
      "source": [
        "df.describe()"
      ]
    },
    {
      "cell_type": "code",
      "execution_count": 3,
      "metadata": {
        "id": "rMTpmWFP8Q3X",
        "outputId": "893d7937-9935-4b73-8429-92c41c71d986",
        "colab": {
          "base_uri": "https://localhost:8080/"
        }
      },
      "outputs": [
        {
          "output_type": "stream",
          "name": "stdout",
          "text": [
            "<class 'pandas.core.frame.DataFrame'>\n",
            "RangeIndex: 11 entries, 0 to 10\n",
            "Data columns (total 3 columns):\n",
            " #   Column              Non-Null Count  Dtype \n",
            "---  ------              --------------  ----- \n",
            " 0   Nama Perusahaan     11 non-null     object\n",
            " 1   Alamat              11 non-null     object\n",
            " 2   Modul Pembelajaran  11 non-null     object\n",
            "dtypes: object(3)\n",
            "memory usage: 392.0+ bytes\n"
          ]
        }
      ],
      "source": [
        "df.info()"
      ]
    },
    {
      "cell_type": "markdown",
      "metadata": {
        "id": "oQiUsqXE8Q3Y"
      },
      "source": [
        "## 2. Modul Pembelajaran (Sebelum Preprocessing)"
      ]
    },
    {
      "cell_type": "code",
      "execution_count": 4,
      "metadata": {
        "id": "s3N4Ps8r8Q3Y"
      },
      "outputs": [],
      "source": [
        "def print_description(index):\n",
        "    example = df[df.index == index][['Modul Pembelajaran', 'Nama Perusahaan','Alamat']].values[0]\n",
        "    if len(example) > 0:\n",
        "        print(example[0])\n",
        "        print('Nama:', example[1])\n",
        "        print('Alamat:', example[2])"
      ]
    },
    {
      "cell_type": "code",
      "execution_count": 5,
      "metadata": {
        "id": "a7xiDE-R8Q3Y",
        "outputId": "79277eac-d8d0-4e13-97cb-3b616f99b06a",
        "colab": {
          "base_uri": "https://localhost:8080/"
        }
      },
      "outputs": [
        {
          "output_type": "stream",
          "name": "stdout",
          "text": [
            "Logika dan Konsep Teknologi AI. Sasaran Pengembangan Skill Coding Memiliki cara berpikir berdasarkan metode-metode Artificial Intelligence dan memiliki wawasan dan perkembangan tentang Artificial Intelligence. Pada  pembelajaran   individu, peserta akan mengikuti pembelajaran tentang perkembangan teknologi,  sejarah Artificial Intelligence (AI) dan  prinsip-prinsip dasar AI serta pengenalan metode-metode yang ada pada Domain AI. Metode Penelitian AI. Mampu menggunakan Analisis dan Statistik yang terdapat pada Domain  Artificial Intelligence untuk melakukan Pemodelan AI dan Analisis Masalah. Pada pembelajaran individu, peserta akan mengikuti pembelajaran tentang konsep-konsep analisis dan statistik dalam Domain AI, yaitu Data Science, Computer Vision dan Natural Language Proccessing. Siklus ProjekAI. Mampu merancang dan mengimplementasi-kan AI Cycle Project (metode-metode yang ada pada domain AI) dalam kehidupan sehari-hari. Pada pembelajaran individu, peserta akan mengikuti pembelajaran tentang Framework sebagai kerangka dalam membuat aplikasi  AI. Dimulai dari tahap Data Scoping, Data Acquistion, Data Exploration dan Model Evaluation (AI Cycle Project). Pemrograman Python. Mampu menggunakan Bahasa python programming untuk menyelesaikan masalah sederhana berbasis AI dan membuat aplikasi AI.   Pada pembelajaran individu, peserta akan mengikuti pembelajaran tentang Python Basic dan Advanced, dimulai dari tahap instalasi python program, tata tulis dalam pemrograman python, logika dan tipe data operator sampai dengan Latihan-latihan yang mengacu pada domain AI. Etika Profesi dan Keterampilan Perusahaan. Mampu menggunakan softskills dan hardskills dalam dunia industry dan perusahaan. Pada pembelajaran individu, peserta akan mengikuti pembelajaran berupa materi keterampilan interpersonal skill, etika kerja, manajemen waktu,  komunikasi bisnis, pola berpikir CV dan teknik wawancara. Proyek Akhir.  Mampu membuat produk aplikasi Artificial Intelligence sebagai reperesentasi bisnis dan solusi penyelesaian masalah berbabasis AI.Pada pembelajaran individu, peserta akan mengikuti pembelajaran tentang materi berupa tahapan-tahapan didalam memodelkan system Artificial Intelligence dalam bentuk produk aplikasi.   \n",
            "Nama: AI 4 Jobs PT Orbit Ventura Indonesia\n",
            "Alamat: Veteran RI Building 15th Floor Unit Z15-002, Plaza Semanggi Jl.Jend.Sudirman Kav. 50, Jakarta Indonesia - 12930\n"
          ]
        }
      ],
      "source": [
        "print_description(1)"
      ]
    },
    {
      "cell_type": "code",
      "execution_count": 6,
      "metadata": {
        "id": "f04nqInU8Q3Y",
        "outputId": "d109b2df-4187-4c43-c566-44d0f666805b",
        "colab": {
          "base_uri": "https://localhost:8080/"
        }
      },
      "outputs": [
        {
          "output_type": "stream",
          "name": "stdout",
          "text": [
            "Microsoft 365 Fundamentals. Target pembelajaran pada modul ini adalah  peserta mampu: Menjelaskan konsep awan, Menjelaskan layanan dan konsep inti Microsoft 365, Menjelaskan keamanan, kepatuhan, privasi, dan kepercayaan di Microsoft 365, Menjelaskan harga dan dukungan Microsoft 365. Microsoft Azure Fundamentals. Setelah mengikuti kursus ini, maka mahasiswa mampu:   Menjelaskan konsep cloud    Menjelaskan layanan inti Azure    Menjelaskan solusi inti dan alat manajemen di Azure    Menjelaskan keamanan umum dan fitur keamanan jaringan    Menjelaskan fitur identitas, tata kelola, privasi, dan kepatuhan    Menjelaskan manajemen biaya Azure dan Perjanjian Tingkat Layanan. Capstone Project. Peserta mengimplementasikan kompetensi teknis yang dipelajari sebagai solusi bisnis/permasalahan yang telah ditetapkan. Peserta akan didorong untuk bekerja secara berkelompok, sehingga selain kompetensi teknis, para peserta juga akan memperoleh keterampilan soft-skills, seperti keterampilan komunikasi, kolaborasi, manajemen proyek, berpikir kritis, computational thinking. Design Thinking Masterclass. Setelah mengikuti kursus ini, peserta akan mampu: Memahami definisi dan implementasi keterampilan design thinking di dalam dunia bisnis, Mengimplementasikan design thinking dalam bisnis dan strategi, Menjadi pemimpin yang mampu menerapkan design thinking MBA untuk mendukung bisnis di perusahaan, Memiliki empati dalam merancang strategi sebagi bagian dari proses design thinking. Modern Project Management. Setelah mengikuti kursus ini, peserta akan mampu: Memulai mengelola proyek, Mengelola sumber daya secara efektif dan efisien, Menyiapkan rencana dan batasan proyek sebelum dikembangkan, Menjaga proyek sesuai dengan jalur yang telah direncanakan, Bekerja dengan Sprint Project. Microsoft Azure Administrator. Target pembelajaran pada modul ini adalah peserta mampu: Mengelola identitas dan tata kelola Azure, Menerapkan dan mengelola penyimpanan di lingkungan Azure, Menerapkan dan mengelola sumber daya komputasi Azure, Konfigurasi dan kelola jaringan virtual, Memantau dan mencadangkan sumber daya Azure\n",
            "Nama: Cloud Administrator PT MariBelajar Indonesia Cerdas\n",
            "Alamat: Jln Tunggul Ametung IVa no 8, Desa Ubung Kaja, Kecamatan Denpasar utara, Kota Denpasar\n"
          ]
        }
      ],
      "source": [
        "print_description(3)"
      ]
    },
    {
      "cell_type": "code",
      "execution_count": 7,
      "metadata": {
        "id": "NeI7LmS38Q3Z",
        "outputId": "dd79753c-87e4-4245-db54-9e6fa5963306",
        "colab": {
          "base_uri": "https://localhost:8080/"
        }
      },
      "outputs": [
        {
          "output_type": "stream",
          "name": "stdout",
          "text": [
            "Pemahaman terhadap alur produksi 2D artist di dalam produksi game, serta implementasinya. Peserta mampu membuat asset 2d  sesuai dengan GDD, peserta mampu melakukan riset dan membuat, mampu memahami dan menguasai  alur produksi asset dalam game, mampu memahami prinsip animasi. Melakukan riset terkait trend desain/gambar, seperti style gambar bersama dengan Tim. Memahami dan mengetahui  cara melakukan riset untuk menentukan  tampilan visual yang menarik Bersama dengan tim, agar produk dapat terdeliver sesuai dengan GDD, peserta mampu membuat asset 2d sesuai dengan GDD, peserta mampu melakukan riset dan membuat, mampu memahami dan menguasai  alur produksi asset dalam game, mampu memahami prinsip animasi. Melakukan analisis dari sisi warna Game Designer. Implementasi, membuat  sketsa awal / dummy yang digunakan sebagai panduan visual asset secara keseluruhan. Melakukan analisis dari sisi style Game Designer. Implementasi, membuat  sketsa awal / dummy yang digunakan sebagai panduan visual asset secara keseluruhan. Membuat asset sesuai kebutuhan dari Game Design Document. Memahami dan menerapkan.  Membuat asset sesuai dengan bentuk dan style  berdasarkan  hasil analisis dan sesuai dengan GDD. \n",
            "Nama: 2D Artist PT GIT SOLUTION\n",
            "Alamat: Depok, Sleman, Provinsi Daerah Istimewa Yogyakarta\n"
          ]
        }
      ],
      "source": [
        "print_description(7)"
      ]
    },
    {
      "cell_type": "markdown",
      "metadata": {
        "id": "IJQYFEWH8Q3Z"
      },
      "source": [
        "## 3. Text Preprocessing"
      ]
    },
    {
      "cell_type": "code",
      "execution_count": 8,
      "metadata": {
        "id": "fHoAyS_p8Q3Z",
        "outputId": "868094eb-83a7-4189-f1de-441e017ee4a5",
        "colab": {
          "base_uri": "https://localhost:8080/"
        }
      },
      "outputs": [
        {
          "output_type": "stream",
          "name": "stderr",
          "text": [
            "[nltk_data] Downloading package stopwords to /root/nltk_data...\n",
            "[nltk_data]   Unzipping corpora/stopwords.zip.\n"
          ]
        }
      ],
      "source": [
        "import nltk\n",
        "nltk.download('stopwords')\n",
        "clean_spcl = re.compile('[/(){}\\[\\]\\|@,;]')\n",
        "clean_symbol = re.compile('[^0-9a-z #+_]')\n",
        "#stopworda = set(stopwords.words('english'))\n",
        "\n",
        "def clean_text(text):\n",
        "    \"\"\"\n",
        "        text: a string\n",
        "        \n",
        "        return: modified initial string\n",
        "    \"\"\"\n",
        "    text = text.lower() # lowercase text\n",
        "    text = clean_spcl.sub(' ', text)\n",
        "    text = clean_symbol.sub('', text)\n",
        "    #text = ' '.join(word for word in text.split() if word not in stopworda) # hapus stopword dari kolom deskripsi\n",
        "    return text\n",
        "    \n",
        "df['modulpembelajaran_clean'] = df['Modul Pembelajaran'].apply(clean_text)"
      ]
    },
    {
      "cell_type": "code",
      "execution_count": 9,
      "metadata": {
        "id": "55AYPffg8Q3a",
        "outputId": "fbe540c9-94ed-459e-99c9-ca54b510c145",
        "colab": {
          "base_uri": "https://localhost:8080/",
          "height": 337
        }
      },
      "outputs": [
        {
          "output_type": "execute_result",
          "data": {
            "text/plain": [
              "                                     Nama Perusahaan  \\\n",
              "0                                   Wulan Nur Afifah   \n",
              "1               AI 4 Jobs PT Orbit Ventura Indonesia   \n",
              "2  Akademi Mobile App Developer PT Nurul Fikri Ci...   \n",
              "3  Cloud Administrator PT MariBelajar Indonesia C...   \n",
              "4  Bisnis Kecerdasan Artifisial (AI-HUSTLER) PT B...   \n",
              "\n",
              "                                              Alamat  \\\n",
              "0                 Jl. Cisadane, Kebondalem, Pemalang   \n",
              "1  Veteran RI Building 15th Floor Unit Z15-002, P...   \n",
              "2  Jl. Situ Indah No.116 RT. 006 RW. 010 Kel. Tug...   \n",
              "3  Jln Tunggul Ametung IVa no 8, Desa Ubung Kaja,...   \n",
              "4                    JLN. IR H JUANDA NO. 84 BANDUNG   \n",
              "\n",
              "                                  Modul Pembelajaran  \\\n",
              "0  Algoritma dan Pemrograman Bahasa Pemrograman S...   \n",
              "1  Logika dan Konsep Teknologi AI. Sasaran Pengem...   \n",
              "2  Soft Skill. Mampu menjelaskan pengertian komun...   \n",
              "3  Microsoft 365 Fundamentals. Target pembelajara...   \n",
              "4  Jr. Project Manager, Mengenal teknik dan langk...   \n",
              "\n",
              "                             modulpembelajaran_clean  \n",
              "0  algoritma dan pemrograman bahasa pemrograman s...  \n",
              "1  logika dan konsep teknologi ai sasaran pengemb...  \n",
              "2  soft skill mampu menjelaskan pengertian komuni...  \n",
              "3  microsoft 365 fundamentals target pembelajaran...  \n",
              "4  jr project manager  mengenal teknik dan langka...  "
            ],
            "text/html": [
              "\n",
              "  <div id=\"df-288b52a8-e334-431a-aa6d-9ae9d4149ec6\">\n",
              "    <div class=\"colab-df-container\">\n",
              "      <div>\n",
              "<style scoped>\n",
              "    .dataframe tbody tr th:only-of-type {\n",
              "        vertical-align: middle;\n",
              "    }\n",
              "\n",
              "    .dataframe tbody tr th {\n",
              "        vertical-align: top;\n",
              "    }\n",
              "\n",
              "    .dataframe thead th {\n",
              "        text-align: right;\n",
              "    }\n",
              "</style>\n",
              "<table border=\"1\" class=\"dataframe\">\n",
              "  <thead>\n",
              "    <tr style=\"text-align: right;\">\n",
              "      <th></th>\n",
              "      <th>Nama Perusahaan</th>\n",
              "      <th>Alamat</th>\n",
              "      <th>Modul Pembelajaran</th>\n",
              "      <th>modulpembelajaran_clean</th>\n",
              "    </tr>\n",
              "  </thead>\n",
              "  <tbody>\n",
              "    <tr>\n",
              "      <th>0</th>\n",
              "      <td>Wulan Nur Afifah</td>\n",
              "      <td>Jl. Cisadane, Kebondalem, Pemalang</td>\n",
              "      <td>Algoritma dan Pemrograman Bahasa Pemrograman S...</td>\n",
              "      <td>algoritma dan pemrograman bahasa pemrograman s...</td>\n",
              "    </tr>\n",
              "    <tr>\n",
              "      <th>1</th>\n",
              "      <td>AI 4 Jobs PT Orbit Ventura Indonesia</td>\n",
              "      <td>Veteran RI Building 15th Floor Unit Z15-002, P...</td>\n",
              "      <td>Logika dan Konsep Teknologi AI. Sasaran Pengem...</td>\n",
              "      <td>logika dan konsep teknologi ai sasaran pengemb...</td>\n",
              "    </tr>\n",
              "    <tr>\n",
              "      <th>2</th>\n",
              "      <td>Akademi Mobile App Developer PT Nurul Fikri Ci...</td>\n",
              "      <td>Jl. Situ Indah No.116 RT. 006 RW. 010 Kel. Tug...</td>\n",
              "      <td>Soft Skill. Mampu menjelaskan pengertian komun...</td>\n",
              "      <td>soft skill mampu menjelaskan pengertian komuni...</td>\n",
              "    </tr>\n",
              "    <tr>\n",
              "      <th>3</th>\n",
              "      <td>Cloud Administrator PT MariBelajar Indonesia C...</td>\n",
              "      <td>Jln Tunggul Ametung IVa no 8, Desa Ubung Kaja,...</td>\n",
              "      <td>Microsoft 365 Fundamentals. Target pembelajara...</td>\n",
              "      <td>microsoft 365 fundamentals target pembelajaran...</td>\n",
              "    </tr>\n",
              "    <tr>\n",
              "      <th>4</th>\n",
              "      <td>Bisnis Kecerdasan Artifisial (AI-HUSTLER) PT B...</td>\n",
              "      <td>JLN. IR H JUANDA NO. 84 BANDUNG</td>\n",
              "      <td>Jr. Project Manager, Mengenal teknik dan langk...</td>\n",
              "      <td>jr project manager  mengenal teknik dan langka...</td>\n",
              "    </tr>\n",
              "  </tbody>\n",
              "</table>\n",
              "</div>\n",
              "      <button class=\"colab-df-convert\" onclick=\"convertToInteractive('df-288b52a8-e334-431a-aa6d-9ae9d4149ec6')\"\n",
              "              title=\"Convert this dataframe to an interactive table.\"\n",
              "              style=\"display:none;\">\n",
              "        \n",
              "  <svg xmlns=\"http://www.w3.org/2000/svg\" height=\"24px\"viewBox=\"0 0 24 24\"\n",
              "       width=\"24px\">\n",
              "    <path d=\"M0 0h24v24H0V0z\" fill=\"none\"/>\n",
              "    <path d=\"M18.56 5.44l.94 2.06.94-2.06 2.06-.94-2.06-.94-.94-2.06-.94 2.06-2.06.94zm-11 1L8.5 8.5l.94-2.06 2.06-.94-2.06-.94L8.5 2.5l-.94 2.06-2.06.94zm10 10l.94 2.06.94-2.06 2.06-.94-2.06-.94-.94-2.06-.94 2.06-2.06.94z\"/><path d=\"M17.41 7.96l-1.37-1.37c-.4-.4-.92-.59-1.43-.59-.52 0-1.04.2-1.43.59L10.3 9.45l-7.72 7.72c-.78.78-.78 2.05 0 2.83L4 21.41c.39.39.9.59 1.41.59.51 0 1.02-.2 1.41-.59l7.78-7.78 2.81-2.81c.8-.78.8-2.07 0-2.86zM5.41 20L4 18.59l7.72-7.72 1.47 1.35L5.41 20z\"/>\n",
              "  </svg>\n",
              "      </button>\n",
              "      \n",
              "  <style>\n",
              "    .colab-df-container {\n",
              "      display:flex;\n",
              "      flex-wrap:wrap;\n",
              "      gap: 12px;\n",
              "    }\n",
              "\n",
              "    .colab-df-convert {\n",
              "      background-color: #E8F0FE;\n",
              "      border: none;\n",
              "      border-radius: 50%;\n",
              "      cursor: pointer;\n",
              "      display: none;\n",
              "      fill: #1967D2;\n",
              "      height: 32px;\n",
              "      padding: 0 0 0 0;\n",
              "      width: 32px;\n",
              "    }\n",
              "\n",
              "    .colab-df-convert:hover {\n",
              "      background-color: #E2EBFA;\n",
              "      box-shadow: 0px 1px 2px rgba(60, 64, 67, 0.3), 0px 1px 3px 1px rgba(60, 64, 67, 0.15);\n",
              "      fill: #174EA6;\n",
              "    }\n",
              "\n",
              "    [theme=dark] .colab-df-convert {\n",
              "      background-color: #3B4455;\n",
              "      fill: #D2E3FC;\n",
              "    }\n",
              "\n",
              "    [theme=dark] .colab-df-convert:hover {\n",
              "      background-color: #434B5C;\n",
              "      box-shadow: 0px 1px 3px 1px rgba(0, 0, 0, 0.15);\n",
              "      filter: drop-shadow(0px 1px 2px rgba(0, 0, 0, 0.3));\n",
              "      fill: #FFFFFF;\n",
              "    }\n",
              "  </style>\n",
              "\n",
              "      <script>\n",
              "        const buttonEl =\n",
              "          document.querySelector('#df-288b52a8-e334-431a-aa6d-9ae9d4149ec6 button.colab-df-convert');\n",
              "        buttonEl.style.display =\n",
              "          google.colab.kernel.accessAllowed ? 'block' : 'none';\n",
              "\n",
              "        async function convertToInteractive(key) {\n",
              "          const element = document.querySelector('#df-288b52a8-e334-431a-aa6d-9ae9d4149ec6');\n",
              "          const dataTable =\n",
              "            await google.colab.kernel.invokeFunction('convertToInteractive',\n",
              "                                                     [key], {});\n",
              "          if (!dataTable) return;\n",
              "\n",
              "          const docLinkHtml = 'Like what you see? Visit the ' +\n",
              "            '<a target=\"_blank\" href=https://colab.research.google.com/notebooks/data_table.ipynb>data table notebook</a>'\n",
              "            + ' to learn more about interactive tables.';\n",
              "          element.innerHTML = '';\n",
              "          dataTable['output_type'] = 'display_data';\n",
              "          await google.colab.output.renderOutput(dataTable, element);\n",
              "          const docLink = document.createElement('div');\n",
              "          docLink.innerHTML = docLinkHtml;\n",
              "          element.appendChild(docLink);\n",
              "        }\n",
              "      </script>\n",
              "    </div>\n",
              "  </div>\n",
              "  "
            ]
          },
          "metadata": {},
          "execution_count": 9
        }
      ],
      "source": [
        "df.head()"
      ]
    },
    {
      "cell_type": "markdown",
      "metadata": {
        "id": "V6KVxT2Y8Q3a"
      },
      "source": [
        "## 4. Modul Pembelajaran (Setelah Preprocessing)"
      ]
    },
    {
      "cell_type": "code",
      "execution_count": 10,
      "metadata": {
        "id": "0d1yv9Fc8Q3a"
      },
      "outputs": [],
      "source": [
        "# Deskripsi kedua (Setelah preprocessing)\n",
        "def print_description_clean(index):\n",
        "    example = df[df.index == index][['modulpembelajaran_clean', 'Nama Perusahaan','Alamat']].values[0]\n",
        "    if len(example) > 0:\n",
        "        print(example[0])\n",
        "        print('Nama:', example[1])\n",
        "        print('Alamat:', example[2])"
      ]
    },
    {
      "cell_type": "code",
      "execution_count": 11,
      "metadata": {
        "id": "uImH4dZD8Q3a",
        "outputId": "f6e5bcdb-5758-43c5-a0af-eb20e4050045",
        "colab": {
          "base_uri": "https://localhost:8080/"
        }
      },
      "outputs": [
        {
          "output_type": "stream",
          "name": "stdout",
          "text": [
            "logika dan konsep teknologi ai sasaran pengembangan skill coding memiliki cara berpikir berdasarkan metodemetode artificial intelligence dan memiliki wawasan dan perkembangan tentang artificial intelligence pada  pembelajaran   individu  peserta akan mengikuti pembelajaran tentang perkembangan teknologi   sejarah artificial intelligence  ai  dan  prinsipprinsip dasar ai serta pengenalan metodemetode yang ada pada domain ai metode penelitian ai mampu menggunakan analisis dan statistik yang terdapat pada domain  artificial intelligence untuk melakukan pemodelan ai dan analisis masalah pada pembelajaran individu  peserta akan mengikuti pembelajaran tentang konsepkonsep analisis dan statistik dalam domain ai  yaitu data science  computer vision dan natural language proccessing siklus projekai mampu merancang dan mengimplementasikan ai cycle project  metodemetode yang ada pada domain ai  dalam kehidupan seharihari pada pembelajaran individu  peserta akan mengikuti pembelajaran tentang framework sebagai kerangka dalam membuat aplikasi  ai dimulai dari tahap data scoping  data acquistion  data exploration dan model evaluation  ai cycle project  pemrograman python mampu menggunakan bahasa python programming untuk menyelesaikan masalah sederhana berbasis ai dan membuat aplikasi ai   pada pembelajaran individu  peserta akan mengikuti pembelajaran tentang python basic dan advanced  dimulai dari tahap instalasi python program  tata tulis dalam pemrograman python  logika dan tipe data operator sampai dengan latihanlatihan yang mengacu pada domain ai etika profesi dan keterampilan perusahaan mampu menggunakan softskills dan hardskills dalam dunia industry dan perusahaan pada pembelajaran individu  peserta akan mengikuti pembelajaran berupa materi keterampilan interpersonal skill  etika kerja  manajemen waktu   komunikasi bisnis  pola berpikir cv dan teknik wawancara proyek akhir  mampu membuat produk aplikasi artificial intelligence sebagai reperesentasi bisnis dan solusi penyelesaian masalah berbabasis aipada pembelajaran individu  peserta akan mengikuti pembelajaran tentang materi berupa tahapantahapan didalam memodelkan system artificial intelligence dalam bentuk produk aplikasi   \n",
            "Nama: AI 4 Jobs PT Orbit Ventura Indonesia\n",
            "Alamat: Veteran RI Building 15th Floor Unit Z15-002, Plaza Semanggi Jl.Jend.Sudirman Kav. 50, Jakarta Indonesia - 12930\n"
          ]
        }
      ],
      "source": [
        "print_description_clean(1)"
      ]
    },
    {
      "cell_type": "code",
      "execution_count": 12,
      "metadata": {
        "id": "UROrAO918Q3b",
        "outputId": "f8e807d8-7868-4d62-efd5-5738204ec5ba",
        "colab": {
          "base_uri": "https://localhost:8080/"
        }
      },
      "outputs": [
        {
          "output_type": "stream",
          "name": "stdout",
          "text": [
            "soft skill mampu menjelaskan pengertian komunikasi interpersonal yang baik mampu menentukan penyelesaian masalah yang paling tepat dari berbagai alternatif pemecahan masalah yang ditemukan mampu menjalankan suatu komitmen secara bersama agar bisa mencapai tujuan yang sama pula mampu memahami pengertian  tujuan dan prinsipprinsip manajemen waktu serta dapat menentukan urutan prioritas mampu menjelaskan lingkup kreativitas  pola dan proses berfikir kreatif untuk menemukan cara pemecahan masalah dan pengambilan keputusan pada pembelajaran individu  peserta akan mengikuti pembelajaran dengan mendengarkan tutorial dan kuliah dari pengajarmateri ini mengajarkan komunikasi interpersonal  communication interpersonal   problem solving  kerjasama tim  teamwork   manajemen waktu  creative thinking ui ux mampu mengimplementasikan desain prototype di figma menuju flutter tutorial dalam bentuk presentasi dan diskusi mahasiswa membaca materi  mengikuti penjelasan mentor  dan mengerjakan tugastugas sebagai berikut pengertian ui ux  teori ui dasar  teori ux dasar  pengenalan figma dan dasar prototyping di figma  pengenalan design guidelines  material design guideline  apples human interface guidelines  implementasi prototype di figma ke flutter design pattern mampu mengimplementasikan design pattern pada proyek flutter tutorial dalam bentuk presentasi dan diskusi mahasiswa membaca materi  mengikuti penjelasan mentor  dan mengerjakan tugastugas sebagai berikut pengenalan clean code  penjelasan design pattern  penjelasan struktur proyek yang baik  implementasi mvp design pattern  implementasi mvvm design pattern pemrograman mobile mampu mengimplementasikan pemrograman mobile dengan flutter code versioning mampu mengimplementasikan git dan fiturfitur dasarnya pada proyek flutter dasardasar pemrograman mampu menulis  menjelaskan  dan mengoperasikan kodingan dengan baik menggunakan bahasa pemrograman dart databases mampu mengimplementasikan firebase sebagai autentikasi user dan database untuk aplikasi flutter\n",
            "Nama: Akademi Mobile App Developer PT Nurul Fikri Cipta Inovasi\n",
            "Alamat: Jl. Situ Indah No.116 RT. 006 RW. 010 Kel. Tugu, Kec. Cimanggis, Kota Depok, Jawa Barat\n"
          ]
        }
      ],
      "source": [
        "print_description_clean(2)"
      ]
    },
    {
      "cell_type": "code",
      "execution_count": 13,
      "metadata": {
        "id": "ttgbNz_d8Q3b",
        "outputId": "f38fdcd8-4f0f-4196-bc4e-739ff87009c5",
        "colab": {
          "base_uri": "https://localhost:8080/"
        }
      },
      "outputs": [
        {
          "output_type": "stream",
          "name": "stdout",
          "text": [
            "Membantu mengurus day-to-day operational Finance Team. Mampu mengelola dan mengurus kegiatan operational pada Finance Team. Mengelola dan membantu proses audit. Mampu mengelola dan membantu proses audit AwanTunai. Membantu mengecek dan mengelola dokumen finansial. Mampu membantu proses pengecekan dan pengelolan dokumen finansial yang dibutuhkan AwanTunai. Membantu mengelola annual report. Mampu membantu proses pengelolaan pada annual financial report AwanTunai. Mengelola dan membantu proses fundraising. \n",
            "Nama: Accounting PT Simplefi Teknologi Indonesia\n",
            "Alamat: Tokopedia Tower Ciputra World 2 Lt.37 Jl. Prof. Dr. Satrio No. Kav. 11 RT.3/ RW.3, Karet Semanggi, Jakarta Selatan 12950\n"
          ]
        }
      ],
      "source": [
        "print_description(8)"
      ]
    },
    {
      "cell_type": "markdown",
      "metadata": {
        "id": "aKUUUHpN8Q3b"
      },
      "source": [
        "## 5. TF-IDF & Cosine Similarity"
      ]
    },
    {
      "cell_type": "code",
      "execution_count": 14,
      "metadata": {
        "scrolled": false,
        "id": "G0Ul4gzG8Q3b",
        "outputId": "9ecbc7f0-8599-4749-f2f6-da9225f3eda2",
        "colab": {
          "base_uri": "https://localhost:8080/"
        }
      },
      "outputs": [
        {
          "output_type": "execute_result",
          "data": {
            "text/plain": [
              "array([[1.        , 0.03704297, 0.04613894, 0.01735909, 0.02723883,\n",
              "        0.0297549 , 0.02463625, 0.00984473, 0.01256141, 0.01329276,\n",
              "        0.        ],\n",
              "       [0.03704297, 1.        , 0.14342579, 0.10846177, 0.06537365,\n",
              "        0.10415748, 0.06312342, 0.06267958, 0.03777654, 0.03058954,\n",
              "        0.02574608],\n",
              "       [0.04613894, 0.14342579, 1.        , 0.12328919, 0.03921264,\n",
              "        0.0707316 , 0.08933779, 0.06952709, 0.04296582, 0.03008774,\n",
              "        0.01653127],\n",
              "       [0.01735909, 0.10846177, 0.12328919, 1.        , 0.05330909,\n",
              "        0.07208525, 0.07217588, 0.07019156, 0.06126576, 0.023959  ,\n",
              "        0.02211708],\n",
              "       [0.02723883, 0.06537365, 0.03921264, 0.05330909, 1.        ,\n",
              "        0.02950429, 0.03974751, 0.03166633, 0.0252055 , 0.01447374,\n",
              "        0.00318317],\n",
              "       [0.0297549 , 0.10415748, 0.0707316 , 0.07208525, 0.02950429,\n",
              "        1.        , 0.04188213, 0.10396791, 0.0266325 , 0.03664696,\n",
              "        0.00837451],\n",
              "       [0.02463625, 0.06312342, 0.08933779, 0.07217588, 0.03974751,\n",
              "        0.04188213, 1.        , 0.0900362 , 0.05866743, 0.01978194,\n",
              "        0.02163085],\n",
              "       [0.00984473, 0.06267958, 0.06952709, 0.07019156, 0.03166633,\n",
              "        0.10396791, 0.0900362 , 1.        , 0.02525519, 0.0164283 ,\n",
              "        0.00315771],\n",
              "       [0.01256141, 0.03777654, 0.04296582, 0.06126576, 0.0252055 ,\n",
              "        0.0266325 , 0.05866743, 0.02525519, 1.        , 0.00972934,\n",
              "        0.03617026],\n",
              "       [0.01329276, 0.03058954, 0.03008774, 0.023959  , 0.01447374,\n",
              "        0.03664696, 0.01978194, 0.0164283 , 0.00972934, 1.        ,\n",
              "        0.        ],\n",
              "       [0.        , 0.02574608, 0.01653127, 0.02211708, 0.00318317,\n",
              "        0.00837451, 0.02163085, 0.00315771, 0.03617026, 0.        ,\n",
              "        1.        ]])"
            ]
          },
          "metadata": {},
          "execution_count": 14
        }
      ],
      "source": [
        "df.set_index('Nama Perusahaan', inplace=True)\n",
        "tf = TfidfVectorizer(analyzer='word', ngram_range=(1, 3), min_df=0, stop_words='english')\n",
        "tfidf_matrix = tf.fit_transform(df['modulpembelajaran_clean'])\n",
        "cos_sim = cosine_similarity(tfidf_matrix, tfidf_matrix)\n",
        "cos_sim"
      ]
    },
    {
      "cell_type": "code",
      "execution_count": 15,
      "metadata": {
        "id": "PhuZKDnN8Q3c",
        "outputId": "41743bb5-5729-49c5-8b25-7ddd63988ff5",
        "colab": {
          "base_uri": "https://localhost:8080/"
        }
      },
      "outputs": [
        {
          "output_type": "execute_result",
          "data": {
            "text/plain": [
              "0                                      Wulan Nur Afifah\n",
              "1                  AI 4 Jobs PT Orbit Ventura Indonesia\n",
              "2     Akademi Mobile App Developer PT Nurul Fikri Ci...\n",
              "3     Cloud Administrator PT MariBelajar Indonesia C...\n",
              "4     Bisnis Kecerdasan Artifisial (AI-HUSTLER) PT B...\n",
              "5              Data Analytics PT Zona Edukasi Nusantara\n",
              "6     01BD - Systems Analyst PT. IlmuKomputerCom Bra...\n",
              "7                             2D Artist PT GIT SOLUTION\n",
              "8            Accounting PT Simplefi Teknologi Indonesia\n",
              "9     Data Management & Analytics Projects - Data En...\n",
              "10     AI & Blockchain Infrastructure Specialist, Dikti\n",
              "Name: Nama Perusahaan, dtype: object"
            ]
          },
          "metadata": {},
          "execution_count": 15
        }
      ],
      "source": [
        "# Set index utama di kolom 'name'\n",
        "indices = pd.Series(df.index)\n",
        "indices[:50]"
      ]
    },
    {
      "cell_type": "markdown",
      "metadata": {
        "id": "aZu2hdz48Q3c"
      },
      "source": [
        "## 6. Modelling"
      ]
    },
    {
      "cell_type": "code",
      "execution_count": 16,
      "metadata": {
        "id": "SfEqCYQD8Q3c"
      },
      "outputs": [],
      "source": [
        "def recommendations(name, cos_sim = cos_sim):\n",
        "    \n",
        "    recommended_modul = []\n",
        "    \n",
        "    # Mengambil nama hotel berdasarkan variabel indicies\n",
        "    idx = indices[indices == name].index[0]\n",
        "\n",
        "    # Membuat series berdasarkan skor kesamaan\n",
        "    score_series = pd.Series(cos_sim[idx]).sort_values(ascending = False)\n",
        "\n",
        "    # mengambil index dan dibuat 10 baris rekomendasi terbaik\n",
        "    top_10_indexes = list(score_series.iloc[1:4].index)\n",
        "    \n",
        "    for i in top_10_indexes:\n",
        "        recommended_modul.append(list(df.index)[i])\n",
        "        \n",
        "    return recommended_modul"
      ]
    },
    {
      "cell_type": "markdown",
      "metadata": {
        "scrolled": false,
        "id": "rIZ3e-0r8Q3d"
      },
      "source": [
        "## 7. Prediksi"
      ]
    },
    {
      "cell_type": "code",
      "execution_count": 17,
      "metadata": {
        "id": "gvaEhR3M8Q3d",
        "outputId": "bb979de8-9434-4a57-b14c-78dd01560321",
        "colab": {
          "base_uri": "https://localhost:8080/"
        }
      },
      "outputs": [
        {
          "output_type": "execute_result",
          "data": {
            "text/plain": [
              "['Akademi Mobile App Developer PT Nurul Fikri Cipta Inovasi',\n",
              " 'Cloud Administrator PT MariBelajar Indonesia Cerdas',\n",
              " 'Data Analytics PT Zona Edukasi Nusantara']"
            ]
          },
          "metadata": {},
          "execution_count": 17
        }
      ],
      "source": [
        "recommendations('AI 4 Jobs PT Orbit Ventura Indonesia')"
      ]
    },
    {
      "cell_type": "code",
      "execution_count": 18,
      "metadata": {
        "id": "NKHx7DfR8Q3d",
        "outputId": "b7cb8335-9bb0-4acf-9bc8-ed6b6041a8d0",
        "colab": {
          "base_uri": "https://localhost:8080/"
        }
      },
      "outputs": [
        {
          "output_type": "execute_result",
          "data": {
            "text/plain": [
              "['Data Analytics PT Zona Edukasi Nusantara',\n",
              " '01BD - Systems Analyst PT. IlmuKomputerCom Braindevs Sistema',\n",
              " 'Cloud Administrator PT MariBelajar Indonesia Cerdas']"
            ]
          },
          "metadata": {},
          "execution_count": 18
        }
      ],
      "source": [
        "recommendations(\"2D Artist PT GIT SOLUTION\")"
      ]
    },
    {
      "cell_type": "code",
      "execution_count": 19,
      "metadata": {
        "id": "KBe3LSgT8Q3d",
        "outputId": "64d1b0c4-fc5a-4010-e2dd-d3bbd4f0c00c",
        "colab": {
          "base_uri": "https://localhost:8080/"
        }
      },
      "outputs": [
        {
          "output_type": "execute_result",
          "data": {
            "text/plain": [
              "['Accounting PT Simplefi Teknologi Indonesia',\n",
              " 'AI 4 Jobs PT Orbit Ventura Indonesia',\n",
              " 'Cloud Administrator PT MariBelajar Indonesia Cerdas']"
            ]
          },
          "metadata": {},
          "execution_count": 19
        }
      ],
      "source": [
        "recommendations(\"AI & Blockchain Infrastructure Specialist, Dikti\")"
      ]
    },
    {
      "cell_type": "markdown",
      "metadata": {
        "id": "UU6lekzN8Q3d"
      },
      "source": [
        "# Selesai..."
      ]
    }
  ],
  "metadata": {
    "kernelspec": {
      "display_name": "Python 3",
      "language": "python",
      "name": "python3"
    },
    "language_info": {
      "codemirror_mode": {
        "name": "ipython",
        "version": 3
      },
      "file_extension": ".py",
      "mimetype": "text/x-python",
      "name": "python",
      "nbconvert_exporter": "python",
      "pygments_lexer": "ipython3",
      "version": "3.7.3"
    },
    "colab": {
      "provenance": [],
      "include_colab_link": true
    }
  },
  "nbformat": 4,
  "nbformat_minor": 0
}